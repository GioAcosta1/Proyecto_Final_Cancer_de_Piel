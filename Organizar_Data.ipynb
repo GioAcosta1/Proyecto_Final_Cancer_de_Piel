{
  "nbformat": 4,
  "nbformat_minor": 0,
  "metadata": {
    "colab": {
      "provenance": [],
      "mount_file_id": "1ZliieD0mHZLH-KssiKoh0JZrK54nZHAl",
      "authorship_tag": "ABX9TyOeOGLfkBC54SsjBOoWT3vT",
      "include_colab_link": true
    },
    "kernelspec": {
      "name": "python3",
      "display_name": "Python 3"
    },
    "language_info": {
      "name": "python"
    },
    "gpuClass": "standard",
    "accelerator": "GPU"
  },
  "cells": [
    {
      "cell_type": "markdown",
      "metadata": {
        "id": "view-in-github",
        "colab_type": "text"
      },
      "source": [
        "<a href=\"https://colab.research.google.com/github/GioAcosta1/Proyecto_Final_Cancer_de_Piel/blob/Josafat-Zamora/Organizar_Data.ipynb\" target=\"_parent\"><img src=\"https://colab.research.google.com/assets/colab-badge.svg\" alt=\"Open In Colab\"/></a>"
      ]
    },
    {
      "cell_type": "markdown",
      "source": [
        "# **Orginize the Data/ Images**"
      ],
      "metadata": {
        "id": "8wppn39QzGpk"
      }
    },
    {
      "cell_type": "code",
      "source": [
        "# Enable use o GPU\n",
        "import tensorflow as tf\n",
        "device_name = tf.test.gpu_device_name()\n",
        "if device_name != '/device:GPU:0':\n",
        "  raise SystemError('GPU device not found')\n",
        "print('Found GPU at: {}'.format(device_name))"
      ],
      "metadata": {
        "colab": {
          "base_uri": "https://localhost:8080/"
        },
        "id": "m3WYRh1jvReb",
        "outputId": "9c3f2298-07a2-4881-fc4c-41542b13d6ce"
      },
      "execution_count": null,
      "outputs": [
        {
          "output_type": "stream",
          "name": "stdout",
          "text": [
            "Found GPU at: /device:GPU:0\n"
          ]
        }
      ]
    },
    {
      "cell_type": "markdown",
      "source": [],
      "metadata": {
        "id": "uH8UNzeGLahR"
      }
    },
    {
      "cell_type": "code",
      "source": [
        "# Josafat'libraries\n",
        "\n",
        "# work with dataframes\n",
        "import pandas as pd\n",
        "\n",
        "# to work wit arrays\n",
        "import numpy as np\n",
        "\n",
        "# iterate over folders \n",
        "import os\n",
        "\n",
        "# for paths and work with folders \n",
        "from glob import glob\n",
        "\n",
        "# work with files\n",
        "import shutil\n"
      ],
      "metadata": {
        "id": "mhAey_JOMCUT"
      },
      "execution_count": null,
      "outputs": []
    },
    {
      "cell_type": "code",
      "source": [
        "%cd /content/drive/MyDrive/DATASET.zip (Unzipped Files)"
      ],
      "metadata": {
        "colab": {
          "base_uri": "https://localhost:8080/"
        },
        "id": "h0MV52eR0UVI",
        "outputId": "e1f73823-feac-4974-b9ce-ec5d1230b255"
      },
      "execution_count": null,
      "outputs": [
        {
          "output_type": "stream",
          "name": "stdout",
          "text": [
            "/content/drive/MyDrive/DATASET.zip (Unzipped Files)\n"
          ]
        }
      ]
    },
    {
      "cell_type": "code",
      "source": [
        "!pwd"
      ],
      "metadata": {
        "colab": {
          "base_uri": "https://localhost:8080/"
        },
        "id": "elYx_fru0f1r",
        "outputId": "691967d9-0e33-4e1e-a5d4-057a93a83fba"
      },
      "execution_count": null,
      "outputs": [
        {
          "output_type": "stream",
          "name": "stdout",
          "text": [
            "/content/drive/MyDrive/DATASET.zip (Unzipped Files)\n"
          ]
        }
      ]
    },
    {
      "cell_type": "markdown",
      "source": [
        "**Organizing my Data**"
      ],
      "metadata": {
        "id": "74OpO51Ny_So"
      }
    },
    {
      "cell_type": "code",
      "source": [
        "# Where I have all my images\n",
        "data_dir = r\"/content/drive/MyDrive/DATASET.zip (Unzipped Files)/all_images\"\n",
        "\n",
        "# Path were I'll create subfolders of every class\n",
        "dest_dir = r'/content/drive/MyDrive/DATASET.zip (Unzipped Files)/reorganized'\n",
        "\n",
        "# Read csv file with the mata-data\n",
        "skin_df = pd.read_csv(r\"/content/drive/MyDrive/DATASET.zip (Unzipped Files)/HAM10000_metadata.csv\")\n",
        "# prints how many images of every type do we have\n",
        "print(skin_df[\"dx\"].value_counts())\n",
        "# put my labels into a list\n",
        "label = skin_df[\"dx\"].unique().tolist() \n",
        "label_images = []\n",
        "\n",
        "%cd /content/drive/MyDrive/DATASET.zip (Unzipped Files)/reorganized\n",
        "\n",
        "# Put images into a new folder \n",
        "for i in label:\n",
        "  # Creating a new folder \n",
        "  os.mkdir( \"\" + str(i))\n",
        "  sample = skin_df[skin_df[\"dx\"] == i][\"image_id\"]\n",
        "  label_images.extend(sample)\n",
        "  # copying images into the folder with it's label\n",
        "  for id in label_images:\n",
        "    shutil.copyfile((data_dir + \"/\" + id + \".jpg\"), (dest_dir + \"/\" + i + \"/\" + id + \".jpg\"))\n",
        "  label_images = []\n"
      ],
      "metadata": {
        "colab": {
          "base_uri": "https://localhost:8080/"
        },
        "id": "mZr6sOu1voPC",
        "outputId": "c8062cab-6119-4df1-fd68-0aa662456433"
      },
      "execution_count": null,
      "outputs": [
        {
          "output_type": "stream",
          "name": "stdout",
          "text": [
            "nv       6705\n",
            "mel      1113\n",
            "bkl      1099\n",
            "bcc       514\n",
            "akiec     327\n",
            "vasc      142\n",
            "df        115\n",
            "Name: dx, dtype: int64\n",
            "/content/drive/MyDrive/DATASET.zip (Unzipped Files)/reorganized\n"
          ]
        }
      ]
    },
    {
      "cell_type": "markdown",
      "source": [
        "\n",
        "**Subfolders created**\n",
        "\n",
        "Dividí las imagenes en subfolders, con el fin de tenerlas clasificas en folders con el nombre de su respectiva etiqueta.\n",
        "\n",
        "![DL_Proyect_Subfolders.png](data:image/png;base64,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)"
      ],
      "metadata": {
        "id": "nKIyDApXtFNE"
      }
    }
  ]
}